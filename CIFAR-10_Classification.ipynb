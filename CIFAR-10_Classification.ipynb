{
 "cells": [
  {
   "cell_type": "code",
   "execution_count": 2,
   "id": "f21f2685",
   "metadata": {},
   "outputs": [],
   "source": [
    "import torch\n",
    "import torchvision\n",
    "from torch import nn\n",
    "from torch.utils.data import DataLoader\n",
    "from torchvision import transforms\n",
    "from torchvision.datasets import CIFAR10\n",
    "from matplotlib import pyplot as plt\n",
    "\n",
    "import os    \n",
    "os.environ['KMP_DUPLICATE_LIB_OK']='True'\n",
    "\n",
    "import numpy as np"
   ]
  },
  {
   "cell_type": "code",
   "execution_count": 4,
   "id": "ff3644fb",
   "metadata": {},
   "outputs": [
    {
     "name": "stdout",
     "output_type": "stream",
     "text": [
      "Files already downloaded and verified\n",
      "Files already downloaded and verified\n"
     ]
    }
   ],
   "source": [
    "transform = transforms.Compose(\n",
    "    [transforms.ToTensor()])\n",
    "\n",
    "batch_size = 100\n",
    "\n",
    "trainset = CIFAR10(root='./data', train=True,\n",
    "                                        download=True, transform=transform)\n",
    "trainloader = torch.utils.data.DataLoader(trainset, batch_size=batch_size,\n",
    "                                          shuffle=True, num_workers=2)\n",
    "\n",
    "testset = CIFAR10(root='./data', train=False,\n",
    "                                       download=True, transform=transform)\n",
    "testloader = torch.utils.data.DataLoader(testset, batch_size=batch_size,\n",
    "                                         shuffle=False, num_workers=2)\n",
    "\n",
    "classes = ['airplane', 'automobile', 'bird', 'cat', 'deer', 'dog', 'frog', 'horse', 'ship', 'truck']"
   ]
  },
  {
   "cell_type": "code",
   "execution_count": 5,
   "id": "b8a53238",
   "metadata": {},
   "outputs": [
    {
     "name": "stdout",
     "output_type": "stream",
     "text": [
      "50000\n",
      "10000\n"
     ]
    }
   ],
   "source": [
    "print(len(trainset)) #50,000 images all 32x32 and 3 RGB\n",
    "print(len(testset)) #10,000 images"
   ]
  },
  {
   "cell_type": "code",
   "execution_count": 6,
   "id": "89be2bcc",
   "metadata": {},
   "outputs": [],
   "source": [
    "import torchvision.utils as vutils\n",
    "def get_image(index):\n",
    "    image, label = trainloader.dataset.__getitem__(index)\n",
    "    plt.imshow(vutils.make_grid(image, normalize=True).numpy().transpose((1,2,0)))\n",
    "    plt.xlabel(classes[label])"
   ]
  },
  {
   "cell_type": "code",
   "execution_count": 21,
   "id": "a28be399",
   "metadata": {},
   "outputs": [
    {
     "data": {
      "image/png": "[encoded data removed]",
      "text/plain": [
       "<Figure size 432x288 with 1 Axes>"
      ]
     },
     "metadata": {
      "needs_background": "light"
     },
     "output_type": "display_data"
    }
   ],
   "source": [
    "get_image(104)"
   ]
  },
  {
   "cell_type": "code",
   "execution_count": 7,
   "id": "31ee94cf",
   "metadata": {},
   "outputs": [
    {
     "data": {
      "text/plain": [
       "(tensor([[[0.2314, 0.1686, 0.1961,  ..., 0.6196, 0.5961, 0.5804],\n",
       "          [0.0627, 0.0000, 0.0706,  ..., 0.4824, 0.4667, 0.4784],\n",
       "          [0.0980, 0.0627, 0.1922,  ..., 0.4627, 0.4706, 0.4275],\n",
       "          ...,\n",
       "          [0.8157, 0.7882, 0.7765,  ..., 0.6275, 0.2196, 0.2078],\n",
       "          [0.7059, 0.6784, 0.7294,  ..., 0.7216, 0.3804, 0.3255],\n",
       "          [0.6941, 0.6588, 0.7020,  ..., 0.8471, 0.5922, 0.4824]],\n",
       " \n",
       "         [[0.2431, 0.1804, 0.1882,  ..., 0.5176, 0.4902, 0.4863],\n",
       "          [0.0784, 0.0000, 0.0314,  ..., 0.3451, 0.3255, 0.3412],\n",
       "          [0.0941, 0.0275, 0.1059,  ..., 0.3294, 0.3294, 0.2863],\n",
       "          ...,\n",
       "          [0.6667, 0.6000, 0.6314,  ..., 0.5216, 0.1216, 0.1333],\n",
       "          [0.5451, 0.4824, 0.5647,  ..., 0.5804, 0.2431, 0.2078],\n",
       "          [0.5647, 0.5059, 0.5569,  ..., 0.7216, 0.4627, 0.3608]],\n",
       " \n",
       "         [[0.2471, 0.1765, 0.1686,  ..., 0.4235, 0.4000, 0.4039],\n",
       "          [0.0784, 0.0000, 0.0000,  ..., 0.2157, 0.1961, 0.2235],\n",
       "          [0.0824, 0.0000, 0.0314,  ..., 0.1961, 0.1961, 0.1647],\n",
       "          ...,\n",
       "          [0.3765, 0.1333, 0.1020,  ..., 0.2745, 0.0275, 0.0784],\n",
       "          [0.3765, 0.1647, 0.1176,  ..., 0.3686, 0.1333, 0.1333],\n",
       "          [0.4549, 0.3686, 0.3412,  ..., 0.5490, 0.3294, 0.2824]]]),\n",
       " 6)"
      ]
     },
     "execution_count": 7,
     "metadata": {},
     "output_type": "execute_result"
    }
   ],
   "source": [
    "trainset[0]"
   ]
  },
  {
   "cell_type": "code",
   "execution_count": 8,
   "id": "61b58860",
   "metadata": {},
   "outputs": [],
   "source": [
    "import torch.nn as nn\n",
    "import torch.nn.functional as F\n",
    "\n",
    "class ImageClassificationBase(nn.Module):\n",
    "    \n",
    "    def training_step(self, batch):\n",
    "        images, labels = batch \n",
    "        out = self(images)                  # Generate predictions\n",
    "        loss = F.cross_entropy(out, labels)\n",
    "        return loss\n",
    "    \n",
    "    def validation_step(self, batch):\n",
    "        images, labels = batch \n",
    "        out = self(images)                    # Generate predictions\n",
    "        loss = F.cross_entropy(out, labels)   # Calculate loss ###PERHAPS THIS IS A PROBLEM LOOK AT THE INPUT AND WHAT THE STRUCTURE OF INPUTT MUST BE\n",
    "        acc = accuracy(out, labels)           # Calculate accuracy\n",
    "        return {'val_loss': loss.detach(), 'val_acc': acc}\n",
    "        \n",
    "    def validation_epoch_end(self, outputs):\n",
    "        batch_losses = [x['val_loss'] for x in outputs]\n",
    "        epoch_loss = torch.stack(batch_losses).mean()   # Combine losses\n",
    "        batch_accs = [x['val_acc'] for x in outputs]\n",
    "        epoch_acc = torch.stack(batch_accs).mean()      # Combine accuracies\n",
    "        return {'val_loss': epoch_loss.item(), 'val_acc': epoch_acc.item()}\n",
    "    \n",
    "    def epoch_end(self, epoch, result):\n",
    "        print(\"Epoch [{}], train_loss: {:.4f}, val_loss: {:.4f}, val_acc: {:.4f}\".format(\n",
    "            epoch, result['train_loss'], result['val_loss'], result['val_acc']))"
   ]
  },
  {
   "cell_type": "code",
   "execution_count": 9,
   "id": "e53cb273",
   "metadata": {},
   "outputs": [],
   "source": [
    "# Defining the model\n",
    "init_channels = 6\n",
    "kernel_size = 3\n",
    "\n",
    "class ClassificationModel(ImageClassificationBase):\n",
    "    def __init__(self):\n",
    "        super().__init__()\n",
    "        self.cnn = nn.Sequential(\n",
    "            nn.Conv2d(3, out_channels=init_channels, kernel_size=kernel_size, padding=0), #30x30x6\n",
    "            nn.ReLU(),\n",
    "            nn.Conv2d(init_channels, out_channels=init_channels*2, kernel_size=kernel_size, padding=0), #28x28x12\n",
    "            nn.ReLU(),\n",
    "            nn.Conv2d(init_channels*2, out_channels=init_channels*4, kernel_size=kernel_size, padding=0), #26x26x24\n",
    "            nn.ReLU(),\n",
    "            nn.Conv2d(init_channels*4, out_channels=init_channels, kernel_size=kernel_size, padding=0), #24x24x6\n",
    "\n",
    "            nn.Flatten(),\n",
    "            nn.Linear(24*24*6, 120),\n",
    "            nn.ReLU(),\n",
    "            nn.Linear(120, 64),\n",
    "            nn.ReLU(),\n",
    "            nn.Linear(64, 10)\n",
    "    )\n",
    "    def forward(self, xb):\n",
    "        return self.cnn(xb)"
   ]
  },
  {
   "cell_type": "code",
   "execution_count": 10,
   "id": "3eaa5006",
   "metadata": {},
   "outputs": [],
   "source": [
    "def accuracy(outputs, labels):\n",
    "    _, preds = torch.max(outputs, dim=1)\n",
    "    return torch.tensor(torch.sum(preds == labels).item() / len(preds))\n",
    "\n",
    "  \n",
    "@torch.no_grad()\n",
    "def evaluate(model, val_loader):\n",
    "    model.eval()\n",
    "    outputs = [model.validation_step(batch) for batch in val_loader]\n",
    "    return model.validation_epoch_end(outputs)\n",
    "\n",
    "  \n",
    "def fit(epochs, lr, model, train_loader, val_loader, opt_func):\n",
    "    \n",
    "    history = []\n",
    "    optimizer = opt_func(model.parameters(),lr)\n",
    "    for epoch in range(epochs):\n",
    "        \n",
    "        model.train()\n",
    "        train_losses = []\n",
    "        for batch in train_loader:\n",
    "            loss = model.training_step(batch)\n",
    "            train_losses.append(loss)\n",
    "            loss.backward()\n",
    "            optimizer.step()\n",
    "            optimizer.zero_grad()\n",
    "            \n",
    "        result = evaluate(model, val_loader)\n",
    "        result['train_loss'] = torch.stack(train_losses).mean().item()\n",
    "        model.epoch_end(epoch, result)\n",
    "        history.append(result)\n",
    "    \n",
    "    return history"
   ]
  },
  {
   "cell_type": "code",
   "execution_count": 18,
   "id": "6ee841c3",
   "metadata": {},
   "outputs": [
    {
     "name": "stdout",
     "output_type": "stream",
     "text": [
      "Epoch [0], train_loss: 1.7635, val_loss: 1.5296, val_acc: 0.4464\n",
      "Epoch [1], train_loss: 1.4297, val_loss: 1.3499, val_acc: 0.5156\n",
      "Epoch [2], train_loss: 1.3048, val_loss: 1.2886, val_acc: 0.5356\n",
      "Epoch [3], train_loss: 1.2177, val_loss: 1.2519, val_acc: 0.5501\n",
      "Epoch [4], train_loss: 1.1534, val_loss: 1.2181, val_acc: 0.5606\n",
      "Epoch [5], train_loss: 1.0824, val_loss: 1.2429, val_acc: 0.5657\n",
      "Epoch [6], train_loss: 1.0067, val_loss: 1.1653, val_acc: 0.5952\n",
      "Epoch [7], train_loss: 0.9397, val_loss: 1.1123, val_acc: 0.6085\n",
      "Epoch [8], train_loss: 0.8759, val_loss: 1.1065, val_acc: 0.6149\n",
      "Epoch [9], train_loss: 0.8126, val_loss: 1.1355, val_acc: 0.6098\n"
     ]
    }
   ],
   "source": [
    "num_epochs = 10\n",
    "opt_func = torch.optim.Adam\n",
    "lr = .001\n",
    "model = ClassificationModel()\n",
    "\n",
    "history = fit(num_epochs, lr, model, trainloader, testloader, opt_func)"
   ]
  },
  {
   "cell_type": "code",
   "execution_count": 41,
   "id": "09c8c051",
   "metadata": {},
   "outputs": [
    {
     "name": "stdout",
     "output_type": "stream",
     "text": [
      "60.98\n",
      "accuracy = 60.98\n"
     ]
    }
   ],
   "source": [
    "number_correct = 0\n",
    "for images, labels in testloader:\n",
    "    outputs = model(images)\n",
    "    \n",
    "    #print(outputs)\n",
    "    predictions = torch.argmax(outputs, dim=1)\n",
    "    #print(predictions)\n",
    "    #print(labels.data)\n",
    "    number_correct += torch.sum(predictions == labels.data)\n",
    "    #print(number_correct)\n",
    "    \n",
    "accuracy = 100*number_correct/len(testloader.dataset)\n",
    "print(\"accuracy = \" + str(accuracy.numpy()))"
   ]
  },
  {
   "cell_type": "code",
   "execution_count": null,
   "id": "d23e913b",
   "metadata": {},
   "outputs": [],
   "source": []
  }
 ],
 "metadata": {
  "kernelspec": {
   "display_name": "Python 3 (ipykernel)",
   "language": "python",
   "name": "python3"
  },
  "language_info": {
   "codemirror_mode": {
    "name": "ipython",
    "version": 3
   },
   "file_extension": ".py",
   "mimetype": "text/x-python",
   "name": "python",
   "nbconvert_exporter": "python",
   "pygments_lexer": "ipython3",
   "version": "3.9.7"
  }
 },
 "nbformat": 4,
 "nbformat_minor": 5
}
